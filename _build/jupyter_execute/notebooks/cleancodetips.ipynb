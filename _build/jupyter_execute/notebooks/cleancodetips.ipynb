{
 "cells": [
  {
   "cell_type": "markdown",
   "metadata": {},
   "source": [
    "# clean code >> quick and dirty\n",
    "\n",
    "Especially under time pressure, it can be very tempting to solve a problem by quickly writing code without much care for its structure and reusability.\n",
    "\n",
    "Self-taught programmers (as many scientific researchers are) have the additional challenge that they might not have learned a language in a structured way, where one goes through every step and slowly absorbs the coding etiquette. \"Learning by doing\" is a great way to acquire new skills, but it is hardly linear. Thus, there is a chance that some clean code concepts got lost along the way. The good news is that it is always a good idea to catch up on gaps that will make your code more professional and stable. Additionally, your collaborators will thank you.\n",
    "\n",
    "<p align=\"center\">\n",
    "<img src=\"ipynb_media/cleancode_monkeyuser.jpeg\" alt=\"drawing\" width=\"400\"/>\n",
    "</p>\n",
    "\n",
    "In the following snippets, I list a couple of tips/rules to keep in mind while coding. Let me know if you're missing any so that I can complement. ;)"
   ]
  },
  {
   "cell_type": "markdown",
   "metadata": {},
   "source": [
    "### 1# Naming conventions\n",
    "\n",
    "It's a good idea to come up with a logical system to name different types of functions, files and folders as soon as you have a rough idea of how a project will look like and which building blocks it will entail. This way it will become easier to understand further down the line. Descriptive and easy to read names are preferred over ambiguous, short names. \n",
    "\n",
    "e.g. \n",
    "- if naming files:\n",
    "\n",
    "✓ DO:     \"2021-2022_inbound_transport_mywarehouse_mycompany.xlsx\"\n",
    "\n",
    "✗ DON'T:  \"transport updated new.xlsx\"\n",
    "\n",
    "\n",
    "- if naming variables:\n",
    "\n",
    "✓ DO:     \"total_gross_weight_kg = 5034\"\n",
    "\n",
    "✗ DON'T:  \"tweight = 5034\"\n",
    "\n",
    "\n",
    "- additionally, be consistent with the wording:\n",
    "\n",
    "✓ DO:"
   ]
  },
  {
   "cell_type": "code",
   "execution_count": 1,
   "metadata": {},
   "outputs": [],
   "source": [
    "gross_weight_kg = 300\n",
    "nett_weight_kg = 250\n",
    "\n",
    "\n",
    "def fetch_incoming_products(response, variable):\n",
    "    # do something\n",
    "    pass\n",
    "\n",
    "def fetch_outgoing_products(response, variable):\n",
    "    # do something\n",
    "    pass"
   ]
  },
  {
   "cell_type": "markdown",
   "metadata": {},
   "source": [
    "✗ DON'T:\n",
    "(note \"kg\" vs. \"t\" in variable names, as well as the inconcise wording \"variable\" and \"var\")"
   ]
  },
  {
   "cell_type": "code",
   "execution_count": 2,
   "metadata": {},
   "outputs": [],
   "source": [
    "gross_weight_kg = 300\n",
    "nett_weight_t = 250\n",
    "\n",
    "\n",
    "def fetch_incoming_products(variable):\n",
    "    # {function action}\n",
    "    pass\n",
    "\n",
    "def fetch_outgoing_products(var):\n",
    "    # {function action}\n",
    "    pass"
   ]
  },
  {
   "cell_type": "markdown",
   "metadata": {},
   "source": [
    "## 2# Don't use standalone numbers without explanation\n",
    "At the moment you're writting a piece of code, you'll know exactly what you meant with a given number. However, there's a risk that you'll need that same number again in another section of the code. Instead of repeating yourself, it is better practice to allocate a variable for defining this number.\n",
    "\n",
    "✓ DO:"
   ]
  },
  {
   "cell_type": "code",
   "execution_count": 3,
   "metadata": {},
   "outputs": [],
   "source": [
    "gravity_m_s2 = 9.81\n",
    "\n",
    "def calc_force_of_gravity(mass):\n",
    "    force_of_gravity = mass * gravity_m_s2\n",
    "    return force_of_gravity"
   ]
  },
  {
   "cell_type": "markdown",
   "metadata": {},
   "source": [
    "✗ DON'T:"
   ]
  },
  {
   "cell_type": "code",
   "execution_count": 4,
   "metadata": {},
   "outputs": [],
   "source": [
    "def calc_force_of_gravity(mass):\n",
    "    force_of_gravity = mass * 9.81\n",
    "    return force_of_gravity"
   ]
  },
  {
   "cell_type": "markdown",
   "metadata": {},
   "source": [
    "TO BE CONTINUED"
   ]
  },
  {
   "cell_type": "markdown",
   "metadata": {},
   "source": [
    "### X# Unit tests\n",
    "\n",
    "A unit is a small, testable, part of a code. Further, unit tests verify that idependent parts of the code are working properly. They can be implemented by creating test cases which are used to verify the code.\n",
    "\n",
    "e.g. the function \"sum_values\":"
   ]
  },
  {
   "cell_type": "code",
   "execution_count": 5,
   "metadata": {},
   "outputs": [],
   "source": [
    "def sum_values(values_list):\n",
    "    total_sum = 0\n",
    "    for value in values_list:\n",
    "        total_sum += value\n",
    "    return total_sum"
   ]
  },
  {
   "cell_type": "markdown",
   "metadata": {},
   "source": [
    "\"sum_values\" sums all values within a list. A unit test to check if this function works properly could be \"test_sum\":"
   ]
  },
  {
   "cell_type": "code",
   "execution_count": 6,
   "metadata": {},
   "outputs": [],
   "source": [
    "def test_sum(test_values):\n",
    "    assert sum_values(test_values) == sum(test_values),f\"Sum should be: {sum(test_values)}, got: {sum_values(test_values)}\"\n",
    "    print(\"passed test_sum!\")"
   ]
  },
  {
   "cell_type": "markdown",
   "metadata": {},
   "source": [
    "... and then use it for testing!"
   ]
  },
  {
   "cell_type": "code",
   "execution_count": 7,
   "metadata": {},
   "outputs": [
    {
     "name": "stdout",
     "output_type": "stream",
     "text": [
      "passed test_sum!\n"
     ]
    }
   ],
   "source": [
    "test_values = [1,10,100,1000]\n",
    "test_sum(test_values)"
   ]
  },
  {
   "cell_type": "markdown",
   "metadata": {},
   "source": [
    "### X# Use git for version history\n",
    "\n",
    "It is common that features get updated, improved, and methods can be re-written. To eliminate the need of commenting out old code and replacing it by a new version, which would likely become confusing at some point, I really recommend using a version control system (e.g. git) to keep track of versions of your code and documents."
   ]
  },
  {
   "cell_type": "markdown",
   "metadata": {},
   "source": []
  },
  {
   "cell_type": "markdown",
   "metadata": {},
   "source": []
  }
 ],
 "metadata": {
  "kernelspec": {
   "display_name": "Python 3.10.4 ('jupyter_book_initial')",
   "language": "python",
   "name": "python3"
  },
  "language_info": {
   "codemirror_mode": {
    "name": "ipython",
    "version": 3
   },
   "file_extension": ".py",
   "mimetype": "text/x-python",
   "name": "python",
   "nbconvert_exporter": "python",
   "pygments_lexer": "ipython3",
   "version": "3.9.15"
  },
  "vscode": {
   "interpreter": {
    "hash": "34f8baa81737ec67c1d2a94eb78023aac87cc6872f26c928ddc467a4d1875264"
   }
  }
 },
 "nbformat": 4,
 "nbformat_minor": 2
}